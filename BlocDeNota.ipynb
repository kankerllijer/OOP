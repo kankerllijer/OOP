{
  "nbformat": 4,
  "nbformat_minor": 0,
  "metadata": {
    "colab": {
      "provenance": [],
      "authorship_tag": "ABX9TyNifMPk0DaxHQy5KqGokFHc",
      "include_colab_link": true
    },
    "kernelspec": {
      "name": "python3",
      "display_name": "Python 3"
    },
    "language_info": {
      "name": "python"
    }
  },
  "cells": [
    {
      "cell_type": "markdown",
      "metadata": {
        "id": "view-in-github",
        "colab_type": "text"
      },
      "source": [
        "<a href=\"https://colab.research.google.com/github/kankerllijer/OOP/blob/main/BlocDeNota.ipynb\" target=\"_parent\"><img src=\"https://colab.research.google.com/assets/colab-badge.svg\" alt=\"Open In Colab\"/></a>"
      ]
    },
    {
      "cell_type": "code",
      "execution_count": null,
      "metadata": {
        "id": "fkPVu4QWMec9",
        "colab": {
          "base_uri": "https://localhost:8080/"
        },
        "outputId": "c4021a53-b5dc-4499-8e7f-da02a09537ed"
      },
      "outputs": [
        {
          "output_type": "stream",
          "name": "stdout",
          "text": [
            "\u001b[2K     \u001b[90m━━━━━━━━━━━━━━━━━━━━━━━━━━━━━━━━━━━━━━━━\u001b[0m \u001b[32m44.3/44.3 kB\u001b[0m \u001b[31m1.1 MB/s\u001b[0m eta \u001b[36m0:00:00\u001b[0m\n",
            "\u001b[2K   \u001b[90m━━━━━━━━━━━━━━━━━━━━━━━━━━━━━━━━━━━━━━━━\u001b[0m \u001b[32m9.8/9.8 MB\u001b[0m \u001b[31m43.7 MB/s\u001b[0m eta \u001b[36m0:00:00\u001b[0m\n",
            "\u001b[2K   \u001b[90m━━━━━━━━━━━━━━━━━━━━━━━━━━━━━━━━━━━━━━━━\u001b[0m \u001b[32m6.9/6.9 MB\u001b[0m \u001b[31m65.5 MB/s\u001b[0m eta \u001b[36m0:00:00\u001b[0m\n",
            "\u001b[2K   \u001b[90m━━━━━━━━━━━━━━━━━━━━━━━━━━━━━━━━━━━━━━━━\u001b[0m \u001b[32m79.1/79.1 kB\u001b[0m \u001b[31m6.2 MB/s\u001b[0m eta \u001b[36m0:00:00\u001b[0m\n",
            "\u001b[?25h"
          ]
        }
      ],
      "source": [
        "!pip install -q streamlit"
      ]
    },
    {
      "cell_type": "code",
      "source": [
        "%%writefile app.py\n",
        "import streamlit as st\n",
        "import uuid\n",
        "\n",
        "#_________________CLASES BASES_______________\n",
        "\n",
        "class Nota:\n",
        "  def __init__(self, titulo, contenido):\n",
        "    self.titulo    = titulo\n",
        "    self.contenido = contenido\n",
        "    self.id        = str(uuid.uuid4())\n",
        "\n",
        "  def mostrar_contenido(self):\n",
        "    raise NotImplementedError(\"\")\n",
        "\n",
        "  def editar (self, nuevo_titulo, nuevo_contenido):\n",
        "    self.titulo    = nuevo_titulo\n",
        "    self.contenido = nuevo_contenido\n",
        "\n",
        "class NotaTexto(Nota):\n",
        "  def mostrar_contenido(self):\n",
        "        return f\"{self.contenido}\"\n",
        "\n",
        "class NotaLista(Nota):\n",
        "  def mostrar_contenido(self):\n",
        "        items = self.contenido.split(',')\n",
        "        return \"\\n\".join([f\"\\n• {item.strip()}\" for item in items])\n",
        "\n",
        "class NotaImagen(Nota):\n",
        "  def mostrar_contenido(self):\n",
        "        return self.contenido\n",
        "\n",
        "#________________GESTIÓN DE NOTAS_______________\n",
        "\n",
        "class BlocDeNotas:\n",
        "  def __init__(self):\n",
        "    self.notas = []\n",
        "\n",
        "  def agregar_nota(self, nota):\n",
        "    self.notas.append(nota)\n",
        "\n",
        "  def eliminar_nota(self, nota_id):\n",
        "    self.notas = [n for n in self.notas if n.id != nota_id]\n",
        "\n",
        "  def obtener_por_tipo(self, tipo):\n",
        "    return [n for n in self.notas if isinstance(n, tipo)]\n",
        "\n",
        "  def buscar_por_titulo(self, texto_busqueda):\n",
        "    return [n for n in self.notas if texto_busqueda.lower() in n.titulo.lower()]\n",
        "\n",
        "  def obtener_todas(self):\n",
        "    return self.notas\n",
        "\n",
        "#_____________________INTERFAZ_________________\n",
        "\n",
        "def inicializar_sesion():\n",
        "  if 'bloc' not in st.session_state:\n",
        "      st.session_state.bloc = BlocDeNotas()\n",
        "  if 'busqueda' not in st.session_state:\n",
        "      st.session_state.busqueda = ''\n",
        "\n",
        "def mostrar_editor_nota():\n",
        "  st.header(\"➕ Crear Nueva Nota\")\n",
        "\n",
        "  col1, col2 = st.columns([1, 2])\n",
        "  with col1:\n",
        "      tipo_nota = st.selectbox(\"Tipo de nota:\", [\"Texto\", \"Lista\", \"Imagen\"])\n",
        "      titulo = st.text_input(\"Título:\")\n",
        "\n",
        "  with col2:\n",
        "    if tipo_nota == \"Lista\":\n",
        "          contenido = st.text_input(\"Elementos (separados por comas):\")\n",
        "          st.caption(\"Ej: manzanas, pan, leche\")\n",
        "    elif tipo_nota == \"Imagen\":\n",
        "          contenido = st.text_input(\"URL de imagen:\")\n",
        "          st.caption(\"Ej:https://fotito.com/imagen.jpg\")\n",
        "    else:\n",
        "      contenido = st.text_area(\"Contenido:\")\n",
        "\n",
        "  if st.button(\"Crear Nota\"):\n",
        "      if titulo and contenido:\n",
        "        if tipo_nota == \"Texto\":\n",
        "          nueva = NotaTexto(titulo, contenido)\n",
        "        elif tipo_nota == \"Lista\":\n",
        "          nueva = NotaLista(titulo, contenido)\n",
        "        else:\n",
        "          nueva = NotaImagen(titulo, contenido)\n",
        "\n",
        "        st.session_state.bloc.agregar_nota(nueva)\n",
        "        st.success(\"¡Nota creada exitosamente!\")\n",
        "      else:\n",
        "        st.error(\"Debes completar todos los campos\")\n",
        "\n",
        "def mostrar_tarjeta_nota(nota, prefijo =\"\"):\n",
        "  with st.container():\n",
        "    st.subheader(nota.titulo)\n",
        "\n",
        "    if isinstance(nota, NotaImagen):\n",
        "      try:\n",
        "        st.image(nota.contenido, width=300)\n",
        "      except:\n",
        "        st.error(\"Error al cargar la imagen\")\n",
        "    else:\n",
        "        st.markdown(nota.mostrar_contenido())\n",
        "\n",
        "    with st.expander(\"✏️ Editar Nota\"):\n",
        "        nuevo_titulo = st.text_input(\"Título\", value=nota.titulo,\n",
        "                                     key=f\"{prefijo}_titulo_{nota.id}\")\n",
        "        nuevo_contenido = st.text_area(\"Contenido\", value=nota.contenido,\n",
        "                                     key=f\"{prefijo}_contenido_{nota.id}\")\n",
        "\n",
        "        if st.button(\"💾 Guardar Cambios\", key= f\"{prefijo}_guardar_{nota.id}\"):\n",
        "          nota.editar(nuevo_titulo,nuevo_contenido)\n",
        "          st.rerun()\n",
        "\n",
        "    if st.button(\"🗑️ Eliminar\", key = f\"{prefijo}_eliminar_{nota.id}\"):\n",
        "          st.session_state.bloc.eliminar_nota(nota.id)\n",
        "          st.rerun()\n",
        "\n",
        "    st.markdown(\"---\")\n",
        "\n",
        "def mostrar_buscador():\n",
        "  st.header(\"🔍 Buscar Notas\")\n",
        "  st.session_state.busqueda = st.text_input(\"Buscar por título:\")\n",
        "\n",
        "  if st.session_state.busqueda:\n",
        "    resultados = st.session_state.bloc.buscar_por_titulo(st.session_state.busqueda)\n",
        "\n",
        "    if resultados:\n",
        "      st.subheader(f\"_Resultados encontrados:_ {len(resultados)}\")\n",
        "      for nota in resultados:\n",
        "        mostrar_tarjeta_nota(nota, \"busqueda\")\n",
        "    else:\n",
        "      st.warning(\"No se encontraron notas con ese título\")\n",
        "\n",
        "def mostrar_vista_tabla(notas):\n",
        "  datos = []\n",
        "  for nota in notas:\n",
        "      datos.append({\n",
        "          \"Título\"   : nota.titulo,\n",
        "          \"Contenido\": nota.mostrar_contenido() [:50] + \"...\"\n",
        "      })\n",
        "\n",
        "  st.dataframe(\n",
        "      data = datos,\n",
        "      column_config = {\n",
        "          \"Título\": \"Título\",\n",
        "          \"Contenido\": \"Vista Previa\"\n",
        "      },\n",
        "      use_container_width = True,\n",
        "      hide_index = True\n",
        "  )\n",
        "\n",
        "def mostrar_pestanas():\n",
        "  tab1,tab2,tab3 = st.tabs([\"📄 Texto\", \"📍 Listas\", \"🖼️ Imágenes\"])\n",
        "  with tab1:\n",
        "    vista = st.selectbox(\"Modo de visualización\", [\"Tarjetas\", \"Tabla\"],\n",
        "                         key = \"vista_texto\")\n",
        "    st.header(\"Notas de Texto\")\n",
        "    notas = st.session_state.bloc.obtener_por_tipo(NotaTexto)\n",
        "    if notas:\n",
        "      if vista == \"Tarjetas\":\n",
        "        for nota in notas:\n",
        "          mostrar_tarjeta_nota(nota, \"pestana_texto\")\n",
        "      else:\n",
        "        mostrar_vista_tabla(notas)\n",
        "    else:\n",
        "      st.info(\"No hay notas de texto creadas\")\n",
        "\n",
        "  with tab2:\n",
        "    vista = st.selectbox(\"Modo de visualización:\", [\"Tarjetas\", \"Tabla\"],\n",
        "                         key = \"vista_listas\")\n",
        "    st.header(\"Listas de Tareas\")\n",
        "    notas = st.session_state.bloc.obtener_por_tipo(NotaLista)\n",
        "    if notas:\n",
        "      if vista == \"Tarjetas\":\n",
        "        for nota in notas:\n",
        "          mostrar_tarjeta_nota(nota, \"persona_lista\")\n",
        "      else:\n",
        "        mostrar_vista_tabla(notas)\n",
        "    else:\n",
        "      st.info(\"No hay listas creadas\")\n",
        "\n",
        "  with tab3:\n",
        "    vista = st.selectbox(\"Modo de visualización:\", [\"Tarjetas\", \"Tabla\"],\n",
        "                         key = \"vista_imagenes\")\n",
        "    st.header(\"Notas con Imágenes\")\n",
        "    notas = st.session_state.bloc.obtener_por_tipo(NotaImagen)\n",
        "    if notas:\n",
        "      if vista == \"Tarjetas\":\n",
        "        for nota in notas:\n",
        "          mostrar_tarjeta_nota(nota, \"persona_imagenes\")\n",
        "      else:\n",
        "        mostrar_vista_tabla(notas)\n",
        "    else:\n",
        "      st.info(\"No hay imágenes guardadas\")\n",
        "\n",
        "\n",
        "#______________________MAIN_______________________\n",
        "\n",
        "def main():\n",
        "  st.set_page_config(page_title=\"Bloc de Notas\",layout=\"wide\")\n",
        "  st.title(\"📚 Bloc de :blue[Notas]\")\n",
        "\n",
        "  inicializar_sesion()\n",
        "  mostrar_editor_nota()\n",
        "  st.markdown(\"---\")\n",
        "\n",
        "  mostrar_buscador()\n",
        "  st.markdown(\"---\")\n",
        "\n",
        "  mostrar_pestanas()\n",
        "  st.markdown(\"---\")\n",
        "\n",
        "  st.header(\"📋 Vista General de Notas\")\n",
        "  todas_notas = st.session_state.bloc.obtener_todas()\n",
        "  if todas_notas:\n",
        "    mostrar_vista_tabla(todas_notas)\n",
        "  else:\n",
        "    st.info(\"No hay Notas creadas aún\")\n",
        "\n",
        "if __name__ == \"__main__\":\n",
        "  main()\n"
      ],
      "metadata": {
        "id": "LlMu1NHd0JOY",
        "colab": {
          "base_uri": "https://localhost:8080/"
        },
        "outputId": "cd121c1b-90b1-42c8-cc42-dd2a95636ff9"
      },
      "execution_count": 32,
      "outputs": [
        {
          "output_type": "stream",
          "name": "stdout",
          "text": [
            "Overwriting app.py\n"
          ]
        }
      ]
    },
    {
      "cell_type": "code",
      "execution_count": null,
      "metadata": {
        "colab": {
          "base_uri": "https://localhost:8080/"
        },
        "id": "NVrEXuKIM7jN",
        "outputId": "07748319-6afa-4817-9e68-5bef34a9d7d9",
        "collapsed": true
      },
      "outputs": [
        {
          "output_type": "stream",
          "name": "stdout",
          "text": [
            "\u001b[1G\u001b[0K⠙\u001b[1G\u001b[0K⠹\u001b[1G\u001b[0K⠸\u001b[1G\u001b[0K⠼\u001b[1G\u001b[0K⠴\u001b[1G\u001b[0K⠦\u001b[1G\u001b[0K⠧\u001b[1G\u001b[0K\n",
            "up to date, audited 23 packages in 1s\n",
            "\u001b[1G\u001b[0K⠧\u001b[1G\u001b[0K\n",
            "\u001b[1G\u001b[0K⠧\u001b[1G\u001b[0K3 packages are looking for funding\n",
            "\u001b[1G\u001b[0K⠧\u001b[1G\u001b[0K  run `npm fund` for details\n",
            "\u001b[1G\u001b[0K⠧\u001b[1G\u001b[0K\n",
            "2 \u001b[31m\u001b[1mhigh\u001b[22m\u001b[39m severity vulnerabilities\n",
            "\n",
            "To address all issues (including breaking changes), run:\n",
            "  npm audit fix --force\n",
            "\n",
            "Run `npm audit` for details.\n",
            "\u001b[1G\u001b[0K⠧\u001b[1G\u001b[0K"
          ]
        }
      ],
      "source": [
        "!npm install localtunnel"
      ]
    },
    {
      "cell_type": "code",
      "execution_count": 33,
      "metadata": {
        "colab": {
          "base_uri": "https://localhost:8080/"
        },
        "id": "qijECsvBM_ch",
        "outputId": "33443be6-394a-4d0a-e5ce-32e3cc5982b8"
      },
      "outputs": [
        {
          "output_type": "stream",
          "name": "stdout",
          "text": [
            "34.106.84.144\n",
            "\u001b[1G\u001b[0K⠙\u001b[1G\u001b[0Kyour url is: https://short-oranges-hunt.loca.lt\n"
          ]
        }
      ],
      "source": [
        "!streamlit run app.py &>/content/logs.txt & npx localtunnel --port 8501 & curl ipv4.icanhazip.com"
      ]
    }
  ]
}