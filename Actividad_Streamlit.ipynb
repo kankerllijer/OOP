{
  "nbformat": 4,
  "nbformat_minor": 0,
  "metadata": {
    "colab": {
      "provenance": [],
      "authorship_tag": "ABX9TyMmvjz2LMWWmYnKzOY/6i+p",
      "include_colab_link": true
    },
    "kernelspec": {
      "name": "python3",
      "display_name": "Python 3"
    },
    "language_info": {
      "name": "python"
    }
  },
  "cells": [
    {
      "cell_type": "markdown",
      "metadata": {
        "id": "view-in-github",
        "colab_type": "text"
      },
      "source": [
        "<a href=\"https://colab.research.google.com/github/kankerllijer/OOP/blob/main/Actividad_Streamlit.ipynb\" target=\"_parent\"><img src=\"https://colab.research.google.com/assets/colab-badge.svg\" alt=\"Open In Colab\"/></a>"
      ]
    },
    {
      "cell_type": "code",
      "execution_count": null,
      "metadata": {
        "id": "fkPVu4QWMec9",
        "colab": {
          "base_uri": "https://localhost:8080/"
        },
        "outputId": "c2a04c94-ac1d-424b-bc49-311e2e28d9cf"
      },
      "outputs": [
        {
          "output_type": "stream",
          "name": "stdout",
          "text": [
            "\u001b[2K     \u001b[90m━━━━━━━━━━━━━━━━━━━━━━━━━━━━━━━━━━━━━━━━\u001b[0m \u001b[32m44.3/44.3 kB\u001b[0m \u001b[31m840.4 kB/s\u001b[0m eta \u001b[36m0:00:00\u001b[0m\n",
            "\u001b[2K   \u001b[90m━━━━━━━━━━━━━━━━━━━━━━━━━━━━━━━━━━━━━━━━\u001b[0m \u001b[32m9.7/9.7 MB\u001b[0m \u001b[31m43.3 MB/s\u001b[0m eta \u001b[36m0:00:00\u001b[0m\n",
            "\u001b[2K   \u001b[90m━━━━━━━━━━━━━━━━━━━━━━━━━━━━━━━━━━━━━━━━\u001b[0m \u001b[32m6.9/6.9 MB\u001b[0m \u001b[31m46.9 MB/s\u001b[0m eta \u001b[36m0:00:00\u001b[0m\n",
            "\u001b[2K   \u001b[90m━━━━━━━━━━━━━━━━━━━━━━━━━━━━━━━━━━━━━━━━\u001b[0m \u001b[32m79.1/79.1 kB\u001b[0m \u001b[31m3.2 MB/s\u001b[0m eta \u001b[36m0:00:00\u001b[0m\n",
            "\u001b[?25h"
          ]
        }
      ],
      "source": [
        "!pip install -q streamlit"
      ]
    },
    {
      "cell_type": "code",
      "execution_count": null,
      "metadata": {
        "colab": {
          "base_uri": "https://localhost:8080/"
        },
        "id": "lVBKS7umMhfd",
        "outputId": "9314cb7f-705e-4549-f87f-f1b2625d65e8"
      },
      "outputs": [
        {
          "output_type": "stream",
          "name": "stdout",
          "text": [
            "Overwriting app.py\n"
          ]
        }
      ],
      "source": [
        "%%writefile app.py\n",
        "\n",
        "import streamlit as st\n",
        "from datetime import datetime\n",
        "\n",
        "class ToDoList:\n",
        "  def __init__(self):\n",
        "    self.tareas=[]\n",
        "\n",
        "  def crear_tarea(self,tarea,fecha):\n",
        "    self.tareas.append({\"tarea\":tarea, \"fecha\": fecha})\n",
        "\n",
        "  def borrar_tarea(self,eliminar_indice):\n",
        "    if 0<= eliminar_indice<len(self.tareas):\n",
        "      del self.tareas[eliminar_indice]\n",
        "\n",
        "if 'todo' not in st.session_state:\n",
        "  st.session_state.todo = ToDoList()\n",
        "\n",
        "st.title(\"To-Do List\")\n",
        "st.divider()\n",
        "\n",
        "nueva_tarea = st.text_input(\"Añadir una nueva tarea\")\n",
        "elegir_fecha=st.date_input(\"Seleccióna la fecha para la tarea\")\n",
        "\n",
        "if st.button(\"Agregar\")and nueva_tarea:\n",
        "  st.session_state.todo.crear_tarea(nueva_tarea, elegir_fecha)\n",
        "\n",
        "st.divider()\n",
        "\n",
        "st.subheader(\"Tareas pendientes\")\n",
        "tareas_por_fechas={}\n",
        "\n",
        "for hacer_tarea in st.session_state.todo.tareas:\n",
        "  fecha_tarea = hacer_tarea [\"fecha\"].strftime(\"%d/%m/%Y\")\n",
        "  if fecha_tarea not in tareas_por_fechas:\n",
        "    tareas_por_fechas[fecha_tarea]=[]\n",
        "  tareas_por_fechas[fecha_tarea].append(hacer_tarea)\n",
        "\n",
        "\n",
        "for fecha, tareas in tareas_por_fechas.items():\n",
        "  with st.expander(f'{fecha} ({len(tareas)} tareas)'):\n",
        "    for i,tarea in enumerate(tareas):\n",
        "      col1,col2=st.columns([0.8,0.2])\n",
        "      with col1:\n",
        "        st.checkbox(tarea[\"tarea\"], key=f'tarea_{fecha}_{i}')\n",
        "      with col2:\n",
        "        if st.button(\"X\", key=f'eliminar_{fecha}_{i}'):\n",
        "          index = st.session_state.todo.tareas.index(tarea)\n",
        "          st.session_state.todo.borrar_tarea(index)\n",
        "          st.rerun()\n",
        "st.divider()\n",
        "st.caption(\"Marca las tareas completadas\")\n",
        "\n"
      ]
    },
    {
      "cell_type": "code",
      "execution_count": null,
      "metadata": {
        "colab": {
          "base_uri": "https://localhost:8080/"
        },
        "id": "NVrEXuKIM7jN",
        "outputId": "1565b535-6426-492d-b569-c58e88e31c03"
      },
      "outputs": [
        {
          "output_type": "stream",
          "name": "stdout",
          "text": [
            "\u001b[1G\u001b[0K⠙\u001b[1G\u001b[0K⠹\u001b[1G\u001b[0K⠸\u001b[1G\u001b[0K⠼\u001b[1G\u001b[0K⠴\u001b[1G\u001b[0K⠦\u001b[1G\u001b[0K⠧\u001b[1G\u001b[0K⠇\u001b[1G\u001b[0K⠏\u001b[1G\u001b[0K⠋\u001b[1G\u001b[0K⠙\u001b[1G\u001b[0K⠹\u001b[1G\u001b[0K⠸\u001b[1G\u001b[0K⠼\u001b[1G\u001b[0K⠴\u001b[1G\u001b[0K⠦\u001b[1G\u001b[0K⠧\u001b[1G\u001b[0K⠇\u001b[1G\u001b[0K⠏\u001b[1G\u001b[0K⠋\u001b[1G\u001b[0K⠙\u001b[1G\u001b[0K⠹\u001b[1G\u001b[0K⠸\u001b[1G\u001b[0K⠼\u001b[1G\u001b[0K⠴\u001b[1G\u001b[0K⠦\u001b[1G\u001b[0K⠧\u001b[1G\u001b[0K⠇\u001b[1G\u001b[0K⠏\u001b[1G\u001b[0K⠋\u001b[1G\u001b[0K⠙\u001b[1G\u001b[0K⠹\u001b[1G\u001b[0K⠸\u001b[1G\u001b[0K\n",
            "added 22 packages in 4s\n",
            "\u001b[1G\u001b[0K⠸\u001b[1G\u001b[0K\n",
            "\u001b[1G\u001b[0K⠸\u001b[1G\u001b[0K3 packages are looking for funding\n",
            "\u001b[1G\u001b[0K⠸\u001b[1G\u001b[0K  run `npm fund` for details\n",
            "\u001b[1G\u001b[0K⠸\u001b[1G\u001b[0K"
          ]
        }
      ],
      "source": [
        "!npm install localtunnel"
      ]
    },
    {
      "cell_type": "code",
      "execution_count": null,
      "metadata": {
        "colab": {
          "base_uri": "https://localhost:8080/"
        },
        "id": "qijECsvBM_ch",
        "outputId": "556d373a-a28d-43d7-da23-69e5e244caa0"
      },
      "outputs": [
        {
          "output_type": "stream",
          "name": "stdout",
          "text": [
            "35.197.67.167\n",
            "\u001b[1G\u001b[0K⠙\u001b[1G\u001b[0Kyour url is: https://quick-toes-rush.loca.lt\n"
          ]
        }
      ],
      "source": [
        "!streamlit run app.py &>/content/logs.txt & npx localtunnel --port 8501 & curl ipv4.icanhazip.com"
      ]
    }
  ]
}